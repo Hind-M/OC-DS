{
 "cells": [
  {
   "cell_type": "markdown",
   "metadata": {},
   "source": [
    "# Start spark session"
   ]
  },
  {
   "cell_type": "code",
   "execution_count": 1,
   "metadata": {},
   "outputs": [],
   "source": [
    "import pyspark\n",
    "\n",
    "from pyspark.sql import SparkSession\n",
    "\n",
    "# Create spark session\n",
    "spark = SparkSession.builder.appName(\"Images dimension reduction\").getOrCreate()"
   ]
  },
  {
   "cell_type": "markdown",
   "metadata": {},
   "source": [
    "# Connect to AWS S3 and get resources"
   ]
  },
  {
   "cell_type": "code",
   "execution_count": 2,
   "metadata": {},
   "outputs": [],
   "source": [
    "import os\n",
    "import boto3\n",
    "\n",
    "# Get resources stored in AWS S3 service\n",
    "s3 = boto3.resource('s3')"
   ]
  },
  {
   "cell_type": "code",
   "execution_count": 3,
   "metadata": {},
   "outputs": [
    {
     "name": "stdout",
     "output_type": "stream",
     "text": [
      "oc-p8-bucket\n"
     ]
    }
   ],
   "source": [
    "# Print all existing buckets names (only one in this case)\n",
    "for bucket in s3.buckets.all():\n",
    "    print(bucket.name)"
   ]
  },
  {
   "cell_type": "code",
   "execution_count": 4,
   "metadata": {},
   "outputs": [
    {
     "name": "stdout",
     "output_type": "stream",
     "text": [
      "reduced_fruits/Apple_Braeburn/0_100.jpg\n",
      "reduced_fruits/Apple_Braeburn/10_100.jpg\n",
      "reduced_fruits/Apple_Braeburn/1_100.jpg\n",
      "reduced_fruits/Apple_Braeburn/2_100.jpg\n",
      "reduced_fruits/Avocado/12_100.jpg\n",
      "reduced_fruits/Avocado/13_100.jpg\n",
      "reduced_fruits/Avocado/14_100.jpg\n",
      "reduced_fruits/Avocado/15_100.jpg\n",
      "reduced_fruits/Cauliflower/58_100.jpg\n",
      "reduced_fruits/Cauliflower/61_100.jpg\n",
      "reduced_fruits/Cauliflower/68_100.jpg\n",
      "reduced_fruits/Cauliflower/69_100.jpg\n"
     ]
    }
   ],
   "source": [
    "# Print files present in the bucket 'oc-p8-bucket'\n",
    "fruits_bucket = s3.Bucket('oc-p8-bucket')\n",
    "for file in fruits_bucket.objects.all():\n",
    "    print(file.key)"
   ]
  },
  {
   "cell_type": "markdown",
   "metadata": {},
   "source": [
    "# Read images from S3 and process"
   ]
  },
  {
   "cell_type": "code",
   "execution_count": 5,
   "metadata": {},
   "outputs": [],
   "source": [
    "from PIL import Image\n",
    "from io import BytesIO\n",
    "import numpy as np\n",
    "\n",
    "df_data = [] # list of tuples; each tuple represents one row\n",
    "for file in fruits_bucket.objects.all():\n",
    "    obj = fruits_bucket.Object(file.key)\n",
    "    response = obj.get()\n",
    "    file_stream = response['Body']\n",
    "    im = Image.open(file_stream)\n",
    "    # Convert image to array\n",
    "    im_arr = np.array(im)\n",
    "    # Flatten image array\n",
    "    im_arr_flat = np.ravel(im_arr)\n",
    "    # Store file key and image flattened array as tuple in list\n",
    "    df_data.append((file.key, im_arr_flat.tolist()))"
   ]
  },
  {
   "cell_type": "code",
   "execution_count": 7,
   "metadata": {},
   "outputs": [
    {
     "name": "stdout",
     "output_type": "stream",
     "text": [
      "+--------------------+--------------------+\n",
      "|                path|           img_array|\n",
      "+--------------------+--------------------+\n",
      "|reduced_fruits/Ap...|[254, 255, 255, 2...|\n",
      "|reduced_fruits/Ap...|[255, 255, 255, 2...|\n",
      "|reduced_fruits/Ap...|[254, 255, 255, 2...|\n",
      "|reduced_fruits/Ap...|[255, 255, 255, 2...|\n",
      "|reduced_fruits/Av...|[255, 255, 255, 2...|\n",
      "|reduced_fruits/Av...|[255, 255, 255, 2...|\n",
      "|reduced_fruits/Av...|[255, 255, 255, 2...|\n",
      "|reduced_fruits/Av...|[255, 255, 255, 2...|\n",
      "|reduced_fruits/Ca...|[255, 255, 255, 2...|\n",
      "|reduced_fruits/Ca...|[255, 255, 255, 2...|\n",
      "|reduced_fruits/Ca...|[254, 255, 250, 2...|\n",
      "|reduced_fruits/Ca...|[254, 255, 251, 2...|\n",
      "+--------------------+--------------------+\n",
      "\n"
     ]
    }
   ],
   "source": [
    "# Create spark dataframe from previous list of tuples\n",
    "df_tuple = spark.createDataFrame(df_data, [\"path\", \"img_array\"])\n",
    "# Show spark dataframe\n",
    "df_tuple.show(truncate=True)"
   ]
  },
  {
   "cell_type": "code",
   "execution_count": 8,
   "metadata": {},
   "outputs": [
    {
     "name": "stdout",
     "output_type": "stream",
     "text": [
      "root\n",
      " |-- path: string (nullable = true)\n",
      " |-- img_array: array (nullable = true)\n",
      " |    |-- element: long (containsNull = true)\n",
      "\n"
     ]
    }
   ],
   "source": [
    "# Print Schema of dataframe\n",
    "df_tuple.printSchema()"
   ]
  },
  {
   "cell_type": "code",
   "execution_count": 9,
   "metadata": {},
   "outputs": [
    {
     "name": "stdout",
     "output_type": "stream",
     "text": [
      "root\n",
      " |-- path: string (nullable = true)\n",
      " |-- img_array: array (nullable = true)\n",
      " |    |-- element: long (containsNull = true)\n",
      " |-- label: string (nullable = true)\n",
      "\n",
      "+--------------------+--------------------+--------------+\n",
      "|                path|           img_array|         label|\n",
      "+--------------------+--------------------+--------------+\n",
      "|reduced_fruits/Ap...|[254, 255, 255, 2...|Apple_Braeburn|\n",
      "|reduced_fruits/Ap...|[255, 255, 255, 2...|Apple_Braeburn|\n",
      "|reduced_fruits/Ap...|[254, 255, 255, 2...|Apple_Braeburn|\n",
      "|reduced_fruits/Ap...|[255, 255, 255, 2...|Apple_Braeburn|\n",
      "|reduced_fruits/Av...|[255, 255, 255, 2...|       Avocado|\n",
      "|reduced_fruits/Av...|[255, 255, 255, 2...|       Avocado|\n",
      "|reduced_fruits/Av...|[255, 255, 255, 2...|       Avocado|\n",
      "|reduced_fruits/Av...|[255, 255, 255, 2...|       Avocado|\n",
      "|reduced_fruits/Ca...|[255, 255, 255, 2...|   Cauliflower|\n",
      "|reduced_fruits/Ca...|[255, 255, 255, 2...|   Cauliflower|\n",
      "|reduced_fruits/Ca...|[254, 255, 250, 2...|   Cauliflower|\n",
      "|reduced_fruits/Ca...|[254, 255, 251, 2...|   Cauliflower|\n",
      "+--------------------+--------------------+--------------+\n",
      "\n"
     ]
    }
   ],
   "source": [
    "import pyspark.sql.functions as F\n",
    "from pyspark.sql.types import StringType\n",
    "\n",
    "# Create a new column in the dataframe corresponding to images labels\n",
    "def get_label(value):\n",
    "    return value.split('/')[-2]\n",
    "\n",
    "# Convert to a UDF Function by passing in the function and return type of function\n",
    "udf_get_label = F.udf(get_label, StringType())\n",
    "df_labelised = df_tuple.withColumn(\"label\", udf_get_label(\"path\"))\n",
    "\n",
    "# Show new dataframe\n",
    "df_labelised.printSchema()\n",
    "df_labelised.show(truncate=True)"
   ]
  },
  {
   "cell_type": "code",
   "execution_count": 13,
   "metadata": {},
   "outputs": [
    {
     "name": "stdout",
     "output_type": "stream",
     "text": [
      "+----------------------------------------+--------------+\n",
      "|path                                    |label         |\n",
      "+----------------------------------------+--------------+\n",
      "|reduced_fruits/Apple_Braeburn/0_100.jpg |Apple_Braeburn|\n",
      "|reduced_fruits/Apple_Braeburn/10_100.jpg|Apple_Braeburn|\n",
      "|reduced_fruits/Apple_Braeburn/1_100.jpg |Apple_Braeburn|\n",
      "|reduced_fruits/Apple_Braeburn/2_100.jpg |Apple_Braeburn|\n",
      "|reduced_fruits/Avocado/12_100.jpg       |Avocado       |\n",
      "|reduced_fruits/Avocado/13_100.jpg       |Avocado       |\n",
      "|reduced_fruits/Avocado/14_100.jpg       |Avocado       |\n",
      "|reduced_fruits/Avocado/15_100.jpg       |Avocado       |\n",
      "|reduced_fruits/Cauliflower/58_100.jpg   |Cauliflower   |\n",
      "|reduced_fruits/Cauliflower/61_100.jpg   |Cauliflower   |\n",
      "|reduced_fruits/Cauliflower/68_100.jpg   |Cauliflower   |\n",
      "|reduced_fruits/Cauliflower/69_100.jpg   |Cauliflower   |\n",
      "+----------------------------------------+--------------+\n",
      "\n"
     ]
    }
   ],
   "source": [
    "df_labelised.select(\"path\", \"label\").show(truncate=False)"
   ]
  },
  {
   "cell_type": "code",
   "execution_count": 10,
   "metadata": {},
   "outputs": [],
   "source": [
    "from pyspark.sql.types import ArrayType, IntegerType\n",
    "\n",
    "# Downsample images for memory use reduction purpose\n",
    "def downsample_array(value):\n",
    "    return value[::30]\n",
    "\n",
    "udf_downsample_array = F.udf(downsample_array, ArrayType(IntegerType()))\n",
    "df_labelised = df_labelised.withColumn(\"features_ds\", udf_downsample_array(\"img_array\"))"
   ]
  },
  {
   "cell_type": "code",
   "execution_count": 15,
   "metadata": {},
   "outputs": [
    {
     "name": "stdout",
     "output_type": "stream",
     "text": [
      "root\n",
      " |-- path: string (nullable = true)\n",
      " |-- img_array: array (nullable = true)\n",
      " |    |-- element: long (containsNull = true)\n",
      " |-- label: string (nullable = true)\n",
      " |-- features_ds: array (nullable = true)\n",
      " |    |-- element: integer (containsNull = true)\n",
      "\n",
      "+--------------------+--------------------+--------------+--------------------+\n",
      "|                path|           img_array|         label|         features_ds|\n",
      "+--------------------+--------------------+--------------+--------------------+\n",
      "|reduced_fruits/Ap...|[254, 255, 255, 2...|Apple_Braeburn|[254, 255, 253, 2...|\n",
      "|reduced_fruits/Ap...|[255, 255, 255, 2...|Apple_Braeburn|[255, 255, 250, 2...|\n",
      "|reduced_fruits/Ap...|[254, 255, 255, 2...|Apple_Braeburn|[254, 254, 255, 2...|\n",
      "|reduced_fruits/Ap...|[255, 255, 255, 2...|Apple_Braeburn|[255, 254, 254, 2...|\n",
      "|reduced_fruits/Av...|[255, 255, 255, 2...|       Avocado|[255, 255, 255, 2...|\n",
      "|reduced_fruits/Av...|[255, 255, 255, 2...|       Avocado|[255, 255, 255, 2...|\n",
      "|reduced_fruits/Av...|[255, 255, 255, 2...|       Avocado|[255, 255, 255, 2...|\n",
      "|reduced_fruits/Av...|[255, 255, 255, 2...|       Avocado|[255, 255, 255, 2...|\n",
      "|reduced_fruits/Ca...|[255, 255, 255, 2...|   Cauliflower|[255, 255, 255, 2...|\n",
      "|reduced_fruits/Ca...|[255, 255, 255, 2...|   Cauliflower|[255, 255, 255, 2...|\n",
      "|reduced_fruits/Ca...|[254, 255, 250, 2...|   Cauliflower|[254, 255, 254, 2...|\n",
      "|reduced_fruits/Ca...|[254, 255, 251, 2...|   Cauliflower|[254, 255, 255, 2...|\n",
      "+--------------------+--------------------+--------------+--------------------+\n",
      "\n"
     ]
    }
   ],
   "source": [
    "# Show new dataframe\n",
    "df_labelised.printSchema()\n",
    "df_labelised.show(truncate=True)"
   ]
  },
  {
   "cell_type": "code",
   "execution_count": 16,
   "metadata": {},
   "outputs": [],
   "source": [
    "first_row_coll = df_labelised.select(\"img_array\").collect()[0]\n",
    "first_row_coll_ds = df_labelised.select(\"features_ds\").collect()[0]"
   ]
  },
  {
   "cell_type": "code",
   "execution_count": 17,
   "metadata": {},
   "outputs": [
    {
     "name": "stdout",
     "output_type": "stream",
     "text": [
      "30000\n",
      "1000\n"
     ]
    }
   ],
   "source": [
    "# Check success of downsampling of images\n",
    "print(len(first_row_coll[0]))\n",
    "print(len(first_row_coll_ds[0]))"
   ]
  },
  {
   "cell_type": "code",
   "execution_count": 11,
   "metadata": {},
   "outputs": [],
   "source": [
    "from pyspark.ml.linalg import Vectors, VectorUDT\n",
    "\n",
    "# Convert images arrays to spark vectors\n",
    "list_to_vector_udf = F.udf(lambda vs: Vectors.dense([np.double(i) for i in vs]), VectorUDT())\n",
    "df_with_vectors = df_labelised.withColumn(\"featuresDouble\", list_to_vector_udf(\"features_ds\"))"
   ]
  },
  {
   "cell_type": "code",
   "execution_count": 19,
   "metadata": {},
   "outputs": [
    {
     "name": "stdout",
     "output_type": "stream",
     "text": [
      "root\n",
      " |-- path: string (nullable = true)\n",
      " |-- img_array: array (nullable = true)\n",
      " |    |-- element: long (containsNull = true)\n",
      " |-- label: string (nullable = true)\n",
      " |-- features_ds: array (nullable = true)\n",
      " |    |-- element: integer (containsNull = true)\n",
      " |-- featuresDouble: vector (nullable = true)\n",
      "\n"
     ]
    }
   ],
   "source": [
    "# Print schema of new dataframe\n",
    "df_with_vectors.printSchema()"
   ]
  },
  {
   "cell_type": "code",
   "execution_count": 20,
   "metadata": {},
   "outputs": [
    {
     "name": "stdout",
     "output_type": "stream",
     "text": [
      "+--------------------+\n",
      "|      featuresDouble|\n",
      "+--------------------+\n",
      "|[254.0,255.0,253....|\n",
      "|[255.0,255.0,250....|\n",
      "|[254.0,254.0,255....|\n",
      "|[255.0,254.0,254....|\n",
      "|[255.0,255.0,255....|\n",
      "|[255.0,255.0,255....|\n",
      "|[255.0,255.0,255....|\n",
      "|[255.0,255.0,255....|\n",
      "|[255.0,255.0,255....|\n",
      "|[255.0,255.0,255....|\n",
      "|[254.0,255.0,254....|\n",
      "|[254.0,255.0,255....|\n",
      "+--------------------+\n",
      "\n"
     ]
    }
   ],
   "source": [
    "# Show new dataframe\n",
    "df_with_vectors.select(\"featuresDouble\").show(truncate=True)"
   ]
  },
  {
   "cell_type": "markdown",
   "metadata": {},
   "source": [
    "# Dimension reduction: PCA"
   ]
  },
  {
   "cell_type": "code",
   "execution_count": 12,
   "metadata": {},
   "outputs": [
    {
     "name": "stdout",
     "output_type": "stream",
     "text": [
      "+--------------------+\n",
      "|         pcaFeatures|\n",
      "+--------------------+\n",
      "|[1806.57083104063...|\n",
      "|[1641.46618310563...|\n",
      "|[1800.10984031156...|\n",
      "|[1790.00542616467...|\n",
      "|[-1546.4888593670...|\n",
      "|[-1567.9106858745...|\n",
      "|[-1586.4709611181...|\n",
      "|[-1591.5630895189...|\n",
      "|[123.313254464571...|\n",
      "|[128.661121751511...|\n",
      "|[99.1668768156642...|\n",
      "|[78.6374048875883...|\n",
      "+--------------------+\n",
      "\n"
     ]
    }
   ],
   "source": [
    "# Apply PCA on vectors representing downsampled images\n",
    "\n",
    "from pyspark.ml.feature import PCA\n",
    "\n",
    "pca = PCA(k=100, inputCol=\"featuresDouble\", outputCol=\"pcaFeatures\")\n",
    "model = pca.fit(df_with_vectors)\n",
    "\n",
    "result = model.transform(df_with_vectors).select(\"pcaFeatures\")\n",
    "\n",
    "# Show PCA result\n",
    "result.show(truncate=True)"
   ]
  },
  {
   "cell_type": "code",
   "execution_count": 22,
   "metadata": {},
   "outputs": [],
   "source": [
    "first_row_pca = result.collect()[0]"
   ]
  },
  {
   "cell_type": "code",
   "execution_count": 23,
   "metadata": {},
   "outputs": [
    {
     "name": "stdout",
     "output_type": "stream",
     "text": [
      "100\n"
     ]
    }
   ],
   "source": [
    "# Check PCA components number\n",
    "print(len(first_row_pca[0]))"
   ]
  },
  {
   "cell_type": "code",
   "execution_count": 24,
   "metadata": {},
   "outputs": [
    {
     "data": {
      "text/plain": [
       "12"
      ]
     },
     "execution_count": 24,
     "metadata": {},
     "output_type": "execute_result"
    }
   ],
   "source": [
    "# Count elements of dataframes\n",
    "df_with_vectors.count()"
   ]
  },
  {
   "cell_type": "code",
   "execution_count": 25,
   "metadata": {},
   "outputs": [
    {
     "data": {
      "text/plain": [
       "12"
      ]
     },
     "execution_count": 25,
     "metadata": {},
     "output_type": "execute_result"
    }
   ],
   "source": [
    "result.count()"
   ]
  },
  {
   "cell_type": "code",
   "execution_count": 13,
   "metadata": {},
   "outputs": [],
   "source": [
    "# Create index in dataframe with images arrays\n",
    "df_with_vectors_index = df_with_vectors.withColumn(\"id\", F.monotonically_increasing_id())"
   ]
  },
  {
   "cell_type": "code",
   "execution_count": 27,
   "metadata": {},
   "outputs": [
    {
     "name": "stdout",
     "output_type": "stream",
     "text": [
      "root\n",
      " |-- path: string (nullable = true)\n",
      " |-- img_array: array (nullable = true)\n",
      " |    |-- element: long (containsNull = true)\n",
      " |-- label: string (nullable = true)\n",
      " |-- features_ds: array (nullable = true)\n",
      " |    |-- element: integer (containsNull = true)\n",
      " |-- featuresDouble: vector (nullable = true)\n",
      " |-- id: long (nullable = false)\n",
      "\n"
     ]
    }
   ],
   "source": [
    "# Print schema\n",
    "df_with_vectors_index.printSchema()"
   ]
  },
  {
   "cell_type": "code",
   "execution_count": 28,
   "metadata": {},
   "outputs": [
    {
     "name": "stdout",
     "output_type": "stream",
     "text": [
      "+--------------------+--------------------+--------------+--------------------+--------------------+---+\n",
      "|                path|           img_array|         label|         features_ds|      featuresDouble| id|\n",
      "+--------------------+--------------------+--------------+--------------------+--------------------+---+\n",
      "|reduced_fruits/Ap...|[254, 255, 255, 2...|Apple_Braeburn|[254, 255, 253, 2...|[254.0,255.0,253....|  0|\n",
      "|reduced_fruits/Ap...|[255, 255, 255, 2...|Apple_Braeburn|[255, 255, 250, 2...|[255.0,255.0,250....|  1|\n",
      "|reduced_fruits/Ap...|[254, 255, 255, 2...|Apple_Braeburn|[254, 254, 255, 2...|[254.0,254.0,255....|  2|\n",
      "|reduced_fruits/Ap...|[255, 255, 255, 2...|Apple_Braeburn|[255, 254, 254, 2...|[255.0,254.0,254....|  3|\n",
      "|reduced_fruits/Av...|[255, 255, 255, 2...|       Avocado|[255, 255, 255, 2...|[255.0,255.0,255....|  4|\n",
      "|reduced_fruits/Av...|[255, 255, 255, 2...|       Avocado|[255, 255, 255, 2...|[255.0,255.0,255....|  5|\n",
      "|reduced_fruits/Av...|[255, 255, 255, 2...|       Avocado|[255, 255, 255, 2...|[255.0,255.0,255....|  6|\n",
      "|reduced_fruits/Av...|[255, 255, 255, 2...|       Avocado|[255, 255, 255, 2...|[255.0,255.0,255....|  7|\n",
      "|reduced_fruits/Ca...|[255, 255, 255, 2...|   Cauliflower|[255, 255, 255, 2...|[255.0,255.0,255....|  8|\n",
      "|reduced_fruits/Ca...|[255, 255, 255, 2...|   Cauliflower|[255, 255, 255, 2...|[255.0,255.0,255....|  9|\n",
      "|reduced_fruits/Ca...|[254, 255, 250, 2...|   Cauliflower|[254, 255, 254, 2...|[254.0,255.0,254....| 10|\n",
      "|reduced_fruits/Ca...|[254, 255, 251, 2...|   Cauliflower|[254, 255, 255, 2...|[254.0,255.0,255....| 11|\n",
      "+--------------------+--------------------+--------------+--------------------+--------------------+---+\n",
      "\n"
     ]
    }
   ],
   "source": [
    "# Show new dataframe\n",
    "df_with_vectors_index.show(truncate=True)"
   ]
  },
  {
   "cell_type": "code",
   "execution_count": 14,
   "metadata": {},
   "outputs": [
    {
     "name": "stdout",
     "output_type": "stream",
     "text": [
      "root\n",
      " |-- pcaFeatures: vector (nullable = true)\n",
      " |-- id: long (nullable = false)\n",
      "\n",
      "+--------------------+---+\n",
      "|         pcaFeatures| id|\n",
      "+--------------------+---+\n",
      "|[1806.57083104063...|  0|\n",
      "|[1641.46618310563...|  1|\n",
      "|[1800.10984031156...|  2|\n",
      "|[1790.00542616467...|  3|\n",
      "|[-1546.4888593670...|  4|\n",
      "|[-1567.9106858745...|  5|\n",
      "|[-1586.4709611181...|  6|\n",
      "|[-1591.5630895189...|  7|\n",
      "|[123.313254464571...|  8|\n",
      "|[128.661121751511...|  9|\n",
      "|[99.1668768156642...| 10|\n",
      "|[78.6374048875883...| 11|\n",
      "+--------------------+---+\n",
      "\n"
     ]
    }
   ],
   "source": [
    "# Create index in dataframe with PCA results\n",
    "result_index = result.withColumn(\"id\", F.monotonically_increasing_id())\n",
    "# Show new indexed dataframe\n",
    "result_index.printSchema()\n",
    "result_index.show(truncate=True)"
   ]
  },
  {
   "cell_type": "code",
   "execution_count": 15,
   "metadata": {},
   "outputs": [],
   "source": [
    "# Join the two dataframes based on their index\n",
    "df_pca = df_with_vectors_index.join(result_index, on=['id'])"
   ]
  },
  {
   "cell_type": "code",
   "execution_count": 31,
   "metadata": {},
   "outputs": [
    {
     "name": "stdout",
     "output_type": "stream",
     "text": [
      "root\n",
      " |-- id: long (nullable = false)\n",
      " |-- path: string (nullable = true)\n",
      " |-- img_array: array (nullable = true)\n",
      " |    |-- element: long (containsNull = true)\n",
      " |-- label: string (nullable = true)\n",
      " |-- features_ds: array (nullable = true)\n",
      " |    |-- element: integer (containsNull = true)\n",
      " |-- featuresDouble: vector (nullable = true)\n",
      " |-- pcaFeatures: vector (nullable = true)\n",
      "\n"
     ]
    }
   ],
   "source": [
    "# Print schema of global joined dataframe\n",
    "df_pca.printSchema()"
   ]
  },
  {
   "cell_type": "code",
   "execution_count": 32,
   "metadata": {},
   "outputs": [
    {
     "name": "stdout",
     "output_type": "stream",
     "text": [
      "+---+--------------------+--------------------+--------------+--------------------+--------------------+--------------------+\n",
      "| id|                path|           img_array|         label|         features_ds|      featuresDouble|         pcaFeatures|\n",
      "+---+--------------------+--------------------+--------------+--------------------+--------------------+--------------------+\n",
      "|  0|reduced_fruits/Ap...|[254, 255, 255, 2...|Apple_Braeburn|[254, 255, 253, 2...|[254.0,255.0,253....|[1806.57083104063...|\n",
      "|  7|reduced_fruits/Av...|[255, 255, 255, 2...|       Avocado|[255, 255, 255, 2...|[255.0,255.0,255....|[-1591.5630895189...|\n",
      "|  6|reduced_fruits/Av...|[255, 255, 255, 2...|       Avocado|[255, 255, 255, 2...|[255.0,255.0,255....|[-1586.4709611181...|\n",
      "|  9|reduced_fruits/Ca...|[255, 255, 255, 2...|   Cauliflower|[255, 255, 255, 2...|[255.0,255.0,255....|[128.661121751511...|\n",
      "|  5|reduced_fruits/Av...|[255, 255, 255, 2...|       Avocado|[255, 255, 255, 2...|[255.0,255.0,255....|[-1567.9106858745...|\n",
      "|  1|reduced_fruits/Ap...|[255, 255, 255, 2...|Apple_Braeburn|[255, 255, 250, 2...|[255.0,255.0,250....|[1641.46618310563...|\n",
      "| 10|reduced_fruits/Ca...|[254, 255, 250, 2...|   Cauliflower|[254, 255, 254, 2...|[254.0,255.0,254....|[99.1668768156642...|\n",
      "|  3|reduced_fruits/Ap...|[255, 255, 255, 2...|Apple_Braeburn|[255, 254, 254, 2...|[255.0,254.0,254....|[1790.00542616467...|\n",
      "|  8|reduced_fruits/Ca...|[255, 255, 255, 2...|   Cauliflower|[255, 255, 255, 2...|[255.0,255.0,255....|[123.313254464571...|\n",
      "| 11|reduced_fruits/Ca...|[254, 255, 251, 2...|   Cauliflower|[254, 255, 255, 2...|[254.0,255.0,255....|[78.6374048875883...|\n",
      "|  2|reduced_fruits/Ap...|[254, 255, 255, 2...|Apple_Braeburn|[254, 254, 255, 2...|[254.0,254.0,255....|[1800.10984031156...|\n",
      "|  4|reduced_fruits/Av...|[255, 255, 255, 2...|       Avocado|[255, 255, 255, 2...|[255.0,255.0,255....|[-1546.4888593670...|\n",
      "+---+--------------------+--------------------+--------------+--------------------+--------------------+--------------------+\n",
      "\n"
     ]
    }
   ],
   "source": [
    "# Show global dataframe\n",
    "df_pca.show(truncate=True)"
   ]
  },
  {
   "cell_type": "code",
   "execution_count": 16,
   "metadata": {},
   "outputs": [],
   "source": [
    "# Order dataframe based on index\n",
    "df_pca_ordered = df_pca.orderBy(\"id\")"
   ]
  },
  {
   "cell_type": "code",
   "execution_count": 34,
   "metadata": {},
   "outputs": [
    {
     "name": "stdout",
     "output_type": "stream",
     "text": [
      "+---+--------------------+--------------------+--------------+--------------------+--------------------+--------------------+\n",
      "| id|                path|           img_array|         label|         features_ds|      featuresDouble|         pcaFeatures|\n",
      "+---+--------------------+--------------------+--------------+--------------------+--------------------+--------------------+\n",
      "|  0|reduced_fruits/Ap...|[254, 255, 255, 2...|Apple_Braeburn|[254, 255, 253, 2...|[254.0,255.0,253....|[1806.57083104063...|\n",
      "|  1|reduced_fruits/Ap...|[255, 255, 255, 2...|Apple_Braeburn|[255, 255, 250, 2...|[255.0,255.0,250....|[1641.46618310563...|\n",
      "|  2|reduced_fruits/Ap...|[254, 255, 255, 2...|Apple_Braeburn|[254, 254, 255, 2...|[254.0,254.0,255....|[1800.10984031156...|\n",
      "|  3|reduced_fruits/Ap...|[255, 255, 255, 2...|Apple_Braeburn|[255, 254, 254, 2...|[255.0,254.0,254....|[1790.00542616467...|\n",
      "|  4|reduced_fruits/Av...|[255, 255, 255, 2...|       Avocado|[255, 255, 255, 2...|[255.0,255.0,255....|[-1546.4888593670...|\n",
      "|  5|reduced_fruits/Av...|[255, 255, 255, 2...|       Avocado|[255, 255, 255, 2...|[255.0,255.0,255....|[-1567.9106858745...|\n",
      "|  6|reduced_fruits/Av...|[255, 255, 255, 2...|       Avocado|[255, 255, 255, 2...|[255.0,255.0,255....|[-1586.4709611181...|\n",
      "|  7|reduced_fruits/Av...|[255, 255, 255, 2...|       Avocado|[255, 255, 255, 2...|[255.0,255.0,255....|[-1591.5630895189...|\n",
      "|  8|reduced_fruits/Ca...|[255, 255, 255, 2...|   Cauliflower|[255, 255, 255, 2...|[255.0,255.0,255....|[123.313254464571...|\n",
      "|  9|reduced_fruits/Ca...|[255, 255, 255, 2...|   Cauliflower|[255, 255, 255, 2...|[255.0,255.0,255....|[128.661121751511...|\n",
      "| 10|reduced_fruits/Ca...|[254, 255, 250, 2...|   Cauliflower|[254, 255, 254, 2...|[254.0,255.0,254....|[99.1668768156642...|\n",
      "| 11|reduced_fruits/Ca...|[254, 255, 251, 2...|   Cauliflower|[254, 255, 255, 2...|[254.0,255.0,255....|[78.6374048875883...|\n",
      "+---+--------------------+--------------------+--------------+--------------------+--------------------+--------------------+\n",
      "\n"
     ]
    }
   ],
   "source": [
    "# Show dataframe\n",
    "df_pca_ordered.show(truncate=True)"
   ]
  },
  {
   "cell_type": "code",
   "execution_count": 35,
   "metadata": {},
   "outputs": [
    {
     "data": {
      "text/plain": [
       "12"
      ]
     },
     "execution_count": 35,
     "metadata": {},
     "output_type": "execute_result"
    }
   ],
   "source": [
    "# Check number of elements in global dataframe\n",
    "df_pca_ordered.count()"
   ]
  },
  {
   "cell_type": "code",
   "execution_count": 17,
   "metadata": {},
   "outputs": [],
   "source": [
    "# Cast PCA features to String (in order to be written in a CSV file)\n",
    "df_pca_ordered_str = df_pca_ordered.withColumn(\"pcaFeaturesStr\", df_pca_ordered.pcaFeatures.cast(\"string\"))"
   ]
  },
  {
   "cell_type": "code",
   "execution_count": 18,
   "metadata": {},
   "outputs": [
    {
     "name": "stdout",
     "output_type": "stream",
     "text": [
      "root\n",
      " |-- id: long (nullable = false)\n",
      " |-- path: string (nullable = true)\n",
      " |-- img_array: array (nullable = true)\n",
      " |    |-- element: long (containsNull = true)\n",
      " |-- label: string (nullable = true)\n",
      " |-- features_ds: array (nullable = true)\n",
      " |    |-- element: integer (containsNull = true)\n",
      " |-- featuresDouble: vector (nullable = true)\n",
      " |-- pcaFeatures: vector (nullable = true)\n",
      " |-- pcaFeaturesStr: string (nullable = true)\n",
      "\n"
     ]
    }
   ],
   "source": [
    "df_pca_ordered_str.printSchema()"
   ]
  },
  {
   "cell_type": "code",
   "execution_count": 38,
   "metadata": {},
   "outputs": [
    {
     "name": "stdout",
     "output_type": "stream",
     "text": [
      "+--------------+--------------------+\n",
      "|         label|      pcaFeaturesStr|\n",
      "+--------------+--------------------+\n",
      "|Apple_Braeburn|[1806.57083104063...|\n",
      "|Apple_Braeburn|[1641.46618310563...|\n",
      "|Apple_Braeburn|[1800.10984031156...|\n",
      "|Apple_Braeburn|[1790.00542616467...|\n",
      "|       Avocado|[-1546.4888593670...|\n",
      "|       Avocado|[-1567.9106858745...|\n",
      "|       Avocado|[-1586.4709611181...|\n",
      "|       Avocado|[-1591.5630895189...|\n",
      "|   Cauliflower|[123.313254464571...|\n",
      "|   Cauliflower|[128.661121751511...|\n",
      "|   Cauliflower|[99.1668768156642...|\n",
      "|   Cauliflower|[78.6374048875883...|\n",
      "+--------------+--------------------+\n",
      "\n"
     ]
    }
   ],
   "source": [
    "# Show dataframe columns to be stored in csv file\n",
    "df_pca_ordered_str.select(\"label\", \"pcaFeaturesStr\").show(truncate=True)"
   ]
  },
  {
   "cell_type": "markdown",
   "metadata": {},
   "source": [
    "# PCA result storage"
   ]
  },
  {
   "cell_type": "code",
   "execution_count": 19,
   "metadata": {},
   "outputs": [],
   "source": [
    "# Save data in a single CSV file\n",
    "df_pca_ordered_str.select(\"label\", \"pcaFeaturesStr\").coalesce(1).write.csv(\"pca_res.csv\")"
   ]
  },
  {
   "cell_type": "code",
   "execution_count": 22,
   "metadata": {},
   "outputs": [
    {
     "data": {
      "text/plain": [
       "'part-00000-955ff586-2622-49b0-8b8c-4e03f72f3753-c000.csv'"
      ]
     },
     "execution_count": 22,
     "metadata": {},
     "output_type": "execute_result"
    }
   ],
   "source": [
    "# List files in storage directory\n",
    "os.listdir(\"pca_res.csv\")[0]"
   ]
  },
  {
   "cell_type": "code",
   "execution_count": 23,
   "metadata": {},
   "outputs": [
    {
     "data": {
      "text/plain": [
       "'pca_res.csv/part-00000-955ff586-2622-49b0-8b8c-4e03f72f3753-c000.csv'"
      ]
     },
     "execution_count": 23,
     "metadata": {},
     "output_type": "execute_result"
    }
   ],
   "source": [
    "# Set path of CSV file of interest\n",
    "fn_path = \"pca_res.csv/\" + os.listdir(\"pca_res.csv\")[0]\n",
    "fn_path"
   ]
  },
  {
   "cell_type": "code",
   "execution_count": 24,
   "metadata": {},
   "outputs": [],
   "source": [
    "# Upload CSV file to S3 in \"oc-p8-bucket\" as \"pca_res.csv\"\n",
    "s3.meta.client.upload_file(fn_path, \"oc-p8-bucket\", \"pca_res.csv\")"
   ]
  }
 ],
 "metadata": {
  "kernelspec": {
   "display_name": "Python 3",
   "language": "python",
   "name": "python3"
  },
  "language_info": {
   "codemirror_mode": {
    "name": "ipython",
    "version": 3
   },
   "file_extension": ".py",
   "mimetype": "text/x-python",
   "name": "python",
   "nbconvert_exporter": "python",
   "pygments_lexer": "ipython3",
   "version": "3.8.3"
  }
 },
 "nbformat": 4,
 "nbformat_minor": 4
}
